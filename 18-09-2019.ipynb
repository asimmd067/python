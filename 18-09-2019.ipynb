{
 "cells": [
  {
   "cell_type": "markdown",
   "metadata": {},
   "source": [
    "# matchsticks relation to the numbers"
   ]
  },
  {
   "cell_type": "code",
   "execution_count": 4,
   "metadata": {},
   "outputs": [
    {
     "name": "stdout",
     "output_type": "stream",
     "text": [
      "enter a number 1645\n",
      "17\n"
     ]
    }
   ],
   "source": [
    "n=input(\"enter a number \")\n",
    "d={0:6,1:2,2:5,3:5,4:4,5:5,6:6,7:3,8:7,9:6}\n",
    "i=0\n",
    "s=0\n",
    "for i in n:\n",
    "    s=s+d[int(i)]\n",
    "print(s)\n",
    "        "
   ]
  },
  {
   "cell_type": "code",
   "execution_count": 27,
   "metadata": {},
   "outputs": [
    {
     "name": "stdout",
     "output_type": "stream",
     "text": [
      "llrrdd\n",
      "0 -2\n"
     ]
    }
   ],
   "source": [
    "t=input()\n",
    "p={\"l\":-1,\"r\":1,\"u\":1,\"d\":-1}\n",
    "x=0\n",
    "y=0\n",
    "for i in t:\n",
    "    if i==\"l\":\n",
    "        x=x+p[i]\n",
    "    elif i==\"r\":\n",
    "        x=x+p[i]\n",
    "    elif i==\"u\":\n",
    "        y=y+p[i]\n",
    "    elif i==\"d\":\n",
    "        y=y+p[i]\n",
    "print(x,y)\n",
    "    \n",
    "\n"
   ]
  },
  {
   "cell_type": "code",
   "execution_count": 1,
   "metadata": {},
   "outputs": [
    {
     "name": "stdout",
     "output_type": "stream",
     "text": [
      "lluu\n",
      "-2 2\n"
     ]
    }
   ],
   "source": [
    "t=input()\n",
    "x=0\n",
    "y=0\n",
    "for i in t:\n",
    "    if i=='l':\n",
    "        x=x-1\n",
    "    elif i=='r': \n",
    "        x=x+1\n",
    "    elif i=='u':\n",
    "        y=y+1\n",
    "    elif i=='d':\n",
    "        y=y-1\n",
    "print(x,y)\n",
    "    \n"
   ]
  },
  {
   "cell_type": "markdown",
   "metadata": {},
   "source": [
    "# getting a file and its operations"
   ]
  },
  {
   "cell_type": "code",
   "execution_count": 30,
   "metadata": {},
   "outputs": [],
   "source": [
    "filepath=\"./files/sample.txt\"\n",
    "with open(filepath,'w') as o:\n",
    "    o.write(\"this is me\")"
   ]
  },
  {
   "cell_type": "code",
   "execution_count": null,
   "metadata": {},
   "outputs": [],
   "source": []
  }
 ],
 "metadata": {
  "kernelspec": {
   "display_name": "Python 3",
   "language": "python",
   "name": "python3"
  },
  "language_info": {
   "codemirror_mode": {
    "name": "ipython",
    "version": 3
   },
   "file_extension": ".py",
   "mimetype": "text/x-python",
   "name": "python",
   "nbconvert_exporter": "python",
   "pygments_lexer": "ipython3",
   "version": "3.7.3"
  }
 },
 "nbformat": 4,
 "nbformat_minor": 2
}
