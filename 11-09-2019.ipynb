{
 "cells": [
  {
   "cell_type": "markdown",
   "metadata": {},
   "source": [
    "# reverse of a number"
   ]
  },
  {
   "cell_type": "code",
   "execution_count": 14,
   "metadata": {},
   "outputs": [
    {
     "name": "stdout",
     "output_type": "stream",
     "text": [
      "enter a number 2100\n",
      "12\n"
     ]
    }
   ],
   "source": [
    "n=(input(\"enter a number \"))\n",
    "r=n[::-1]\n",
    "print(int(r))"
   ]
  },
  {
   "cell_type": "markdown",
   "metadata": {},
   "source": [
    "# split of a number"
   ]
  },
  {
   "cell_type": "code",
   "execution_count": 20,
   "metadata": {},
   "outputs": [
    {
     "name": "stdout",
     "output_type": "stream",
     "text": [
      "enter a number 199\n",
      "991\n",
      "9\n",
      "9\n",
      "1\n"
     ]
    }
   ],
   "source": [
    "n=(input(\"enter a number \"))\n",
    "r=n[::-1]\n",
    "print(int(r))\n",
    "for i in r:\n",
    "    print(int(i))\n",
    "    \n"
   ]
  },
  {
   "cell_type": "markdown",
   "metadata": {},
   "source": [
    "# perfect number or not"
   ]
  },
  {
   "cell_type": "code",
   "execution_count": 21,
   "metadata": {},
   "outputs": [
    {
     "name": "stdout",
     "output_type": "stream",
     "text": [
      "enter a number 9\n",
      "9  is not a perfect number\n"
     ]
    }
   ],
   "source": [
    "n=int(input(\"enter a number \"))\n",
    "s=0\n",
    "for i in range(1,n):\n",
    "    if (n%i==0):\n",
    "        s=(s+i)\n",
    "if (s==n):\n",
    "    print(n,\" is a perfect number \")\n",
    "else:\n",
    "    print(n,\" is not a perfect number\")"
   ]
  },
  {
   "cell_type": "markdown",
   "metadata": {},
   "source": [
    "# special number or not"
   ]
  },
  {
   "cell_type": "code",
   "execution_count": null,
   "metadata": {},
   "outputs": [],
   "source": [
    "n=input(\"enter a number \")\n",
    "s=0\n",
    "m=1\n",
    "for i in n:\n",
    "    s=int(i)+s\n",
    "    m=int(i)*m\n",
    "r=s+m\n",
    "if (int(n)==r):\n",
    "    print(n,\" is a special number \")\n",
    "else:\n",
    "    print(n,\" is not a special number\")\n",
    "        \n",
    "\n",
    "\n",
    "    \n",
    "        "
   ]
  },
  {
   "cell_type": "markdown",
   "metadata": {},
   "source": [
    "# perfect number between ranges"
   ]
  },
  {
   "cell_type": "code",
   "execution_count": 14,
   "metadata": {},
   "outputs": [
    {
     "name": "stdout",
     "output_type": "stream",
     "text": [
      "enter lower limit 1\n",
      "enter upper limit 10\n",
      "6\n"
     ]
    }
   ],
   "source": [
    "l=int(input(\"enter lower limit \"))\n",
    "u=int(input(\"enter upper limit \"))\n",
    "s=0\n",
    "def per(n,s):\n",
    "    for i in range(1,n):\n",
    "        if (n%i==0):\n",
    "            s=(s+i)\n",
    "    if (s==n):\n",
    "        print(n)\n",
    "for j in range(l,u+1):\n",
    "    per(j,s)"
   ]
  },
  {
   "cell_type": "markdown",
   "metadata": {},
   "source": [
    "# prime number or not"
   ]
  },
  {
   "cell_type": "code",
   "execution_count": 32,
   "metadata": {},
   "outputs": [
    {
     "name": "stdout",
     "output_type": "stream",
     "text": [
      "enter a number 15\n",
      "15  is not a prime number\n"
     ]
    }
   ],
   "source": [
    "x=int(input(\"enter a number \"))\n",
    "s=0\n",
    "def prime(x,s):\n",
    "    for i in range(1,x+1):\n",
    "        if (x%i==0):\n",
    "            s=s+1\n",
    "    if (s==2):\n",
    "        print(x,\" is a prime number\")\n",
    "    else:\n",
    "        print(x,\" is not a prime number\")\n",
    "prime(x,s)"
   ]
  },
  {
   "cell_type": "markdown",
   "metadata": {},
   "source": [
    "# prime number between range"
   ]
  },
  {
   "cell_type": "code",
   "execution_count": 33,
   "metadata": {},
   "outputs": [
    {
     "name": "stdout",
     "output_type": "stream",
     "text": [
      "enter lower limit 1\n",
      "enter upper limit 20\n",
      "2\n",
      "3\n",
      "5\n",
      "7\n",
      "11\n",
      "13\n",
      "17\n",
      "19\n"
     ]
    }
   ],
   "source": [
    "l=int(input(\"enter lower limit \"))\n",
    "u=int(input(\"enter upper limit \"))\n",
    "s=0\n",
    "def per(n,s):\n",
    "    for i in range(1,n+1):\n",
    "        if (n%i==0):\n",
    "            s=(s+1)\n",
    "    if (s==2):\n",
    "        print(n)\n",
    "for j in range(l,u+1):\n",
    "    per(j,s)"
   ]
  },
  {
   "cell_type": "code",
   "execution_count": null,
   "metadata": {},
   "outputs": [],
   "source": []
  }
 ],
 "metadata": {
  "kernelspec": {
   "display_name": "Python 3",
   "language": "python",
   "name": "python3"
  },
  "language_info": {
   "codemirror_mode": {
    "name": "ipython",
    "version": 3
   },
   "file_extension": ".py",
   "mimetype": "text/x-python",
   "name": "python",
   "nbconvert_exporter": "python",
   "pygments_lexer": "ipython3",
   "version": "3.7.3"
  }
 },
 "nbformat": 4,
 "nbformat_minor": 2
}
