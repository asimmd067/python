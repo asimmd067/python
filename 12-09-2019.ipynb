{
 "cells": [
  {
   "cell_type": "markdown",
   "metadata": {},
   "source": [
    "# print the numbers divisible by 6 and not a factor of 100"
   ]
  },
  {
   "cell_type": "markdown",
   "metadata": {},
   "source": [
    "l=int(input(\"enter lower limit\"))\n",
    "u=int(input(\"enter upper limit\"))\n",
    "def div(l,u):\n",
    "    for i in range(l,u+1):\n",
    "        if (i%6==0and(100%i)!=0):\n",
    "            print(i)\n",
    "div(l,u)\n"
   ]
  },
  {
   "cell_type": "markdown",
   "metadata": {},
   "source": [
    "# print the average of cubes of all even numbers in a range"
   ]
  },
  {
   "cell_type": "code",
   "execution_count": 19,
   "metadata": {},
   "outputs": [
    {
     "name": "stdout",
     "output_type": "stream",
     "text": [
      "enter lower limit 2\n",
      "enter upper limit 4\n",
      "36\n"
     ]
    }
   ],
   "source": [
    "l=int(input(\"enter lower limit \"))\n",
    "u=int(input(\"enter upper limit \"))\n",
    "s=0\n",
    "j=0\n",
    "def avg(x,y,j,s):\n",
    "    for i in range(l,u+1):\n",
    "        if i%2==0:\n",
    "            j=j+1\n",
    "            s=s+(i**3)\n",
    "    res=s/j\n",
    "    print(int(res))\n",
    "avg(l,u,j,s)"
   ]
  },
  {
   "cell_type": "markdown",
   "metadata": {},
   "source": [
    "# print of top 3 using dictionary concept"
   ]
  },
  {
   "cell_type": "code",
   "execution_count": null,
   "metadata": {},
   "outputs": [],
   "source": []
  }
 ],
 "metadata": {
  "kernelspec": {
   "display_name": "Python 3",
   "language": "python",
   "name": "python3"
  },
  "language_info": {
   "codemirror_mode": {
    "name": "ipython",
    "version": 3
   },
   "file_extension": ".py",
   "mimetype": "text/x-python",
   "name": "python",
   "nbconvert_exporter": "python",
   "pygments_lexer": "ipython3",
   "version": "3.7.3"
  }
 },
 "nbformat": 4,
 "nbformat_minor": 2
}
